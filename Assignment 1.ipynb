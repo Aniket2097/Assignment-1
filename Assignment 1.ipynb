{
 "cells": [
  {
   "cell_type": "code",
   "execution_count": 1,
   "id": "2a8b78b2-07bc-4427-a8b2-210746f7f69b",
   "metadata": {},
   "outputs": [],
   "source": [
    "Q.1> Who developed Python Programming Language?\n",
    "Guido van Rossum"
   ]
  },
  {
   "cell_type": "code",
   "execution_count": null,
   "id": "1d642247-7a67-4692-9620-16f815304e52",
   "metadata": {},
   "outputs": [],
   "source": [
    "Q.2> Which type of programming does python support?\n",
    " Ans> Python support Object-oriented programming and structure programming."
   ]
  },
  {
   "cell_type": "code",
   "execution_count": null,
   "id": "929c884a-c83b-479b-9772-4284a44451c5",
   "metadata": {},
   "outputs": [],
   "source": [
    "Q.3> Is python case is sensitive when dealing with identifiers ?\n",
    " Ans> Yes, Python is a case-sensitive language, i.e., it treats uppercase and lowercase characters differently.\n",
    "     This applies to identifiers too.We must avoid using the same name with different caseswhile naming identifiers."
   ]
  },
  {
   "cell_type": "code",
   "execution_count": null,
   "id": "72472f19-8b52-4c7a-a4b0-9366ef873a3f",
   "metadata": {},
   "outputs": [],
   "source": [
    "Q.5> is python code compiled or interpreted ?\n",
    " Ans> It is both compiled and interpreted language. There is no separate compile step after writing Python code and before running the .\n",
    "    As concluding remarks, Python is neither a true compiled time nor pure interpreted language but it is called interpreted language.\n",
    "    "
   ]
  },
  {
   "cell_type": "code",
   "execution_count": null,
   "id": "3d2c3f5f-d185-4acf-8364-edeed863568c",
   "metadata": {},
   "outputs": [],
   "source": [
    "Q.6> Name a few blocks of code used to define in python language ?\n",
    " Ans> A module, A function body, and A class definition"
   ]
  },
  {
   "cell_type": "code",
   "execution_count": null,
   "id": "9dbbc959-04b5-46fe-ae49-0de982de6db5",
   "metadata": {},
   "outputs": [],
   "source": [
    "Q.7> State a character used to give single line comments in python ? \n",
    " Ans> '#' is used to give single line comments in python "
   ]
  },
  {
   "cell_type": "code",
   "execution_count": null,
   "id": "f318d8ff-a397-451f-b0a3-ecca4a88149f",
   "metadata": {},
   "outputs": [],
   "source": [
    "Q.8> Mention functions which can help us to find the version of python that we are currently working on?\n",
    "The function sys.version can help us to find the version of python that we are currently working on."
   ]
  },
  {
   "cell_type": "code",
   "execution_count": null,
   "id": "3b789605-15f2-419a-a619-a85e670e845c",
   "metadata": {},
   "outputs": [],
   "source": [
    "Q.9> Python supports the creation of anonymous function at runtime, using a construct called ___________ \n",
    " Ans> \"lambda\""
   ]
  },
  {
   "cell_type": "code",
   "execution_count": null,
   "id": "9b2734b9-57c7-47a0-af1a-53f59b4f3dfe",
   "metadata": {},
   "outputs": [],
   "source": [
    "Q.10> What does pip stand for python?\n",
    "Preferred Installer Program"
   ]
  },
  {
   "cell_type": "code",
   "execution_count": null,
   "id": "227a5e1d-7969-4ac3-8135-2982b83432b7",
   "metadata": {},
   "outputs": [],
   "source": [
    "Q.11> Mention a few built-in function in python ? \n",
    " Ans> These are some built-in functions in python:\n",
    "        print( ) function.\n",
    "        type( ) function.\n",
    "        input( ) function.\n",
    "        append( ) function.\n",
    "        extend( ) function.\n",
    "        count( ) function.\n",
    "        sorted( ) function.\n",
    "        max( ) function. "
   ]
  },
  {
   "cell_type": "code",
   "execution_count": null,
   "id": "766a16af-f679-4dbc-add9-7fd79ba196ee",
   "metadata": {},
   "outputs": [],
   "source": [
    "Q.12> What is the maximum possible length of an identifier in Python?\n",
    "79 characters"
   ]
  },
  {
   "cell_type": "code",
   "execution_count": null,
   "id": "cb797962-e1bd-4b9b-9f7c-d0c1357978a0",
   "metadata": {},
   "outputs": [],
   "source": [
    "Q.13> What are the benefits of using Python?\n",
    "1. Simple and Easy to learn\n",
    "2. Portable and Extensible\n",
    "3.Object-Oriented Programming\n",
    "4.Artificial Intelligence\n",
    "5.Big Data\n",
    "Python can handle plenty of an immense amount of data. "
   ]
  },
  {
   "cell_type": "code",
   "execution_count": null,
   "id": "8ed5cd77-75ae-4a61-825f-e58d81c603d7",
   "metadata": {},
   "outputs": [],
   "source": [
    "Q.14> How is memory managed in python ?\n",
    " Ans> Memory management in Python involves a private heap containing all Python objects and data structures.\n",
    "      The management of this private heap is ensured internally by the Python memory manager.\n",
    "        "
   ]
  },
  {
   "cell_type": "code",
   "execution_count": null,
   "id": "1747e26e-da53-4702-aee8-6b0d17e56a98",
   "metadata": {},
   "outputs": [],
   "source": [
    "Q.15> How to install python in windows and set path variables ?\n",
    " Ans> Install python from this link https://www.python.org/downloads/\n",
    "      After this, install it on your PC. Look for the location where PYTHON has been installed on your PC\n",
    "      using tge following command on your command prompt: cmd python.\n",
    "      Then go to advanced system settings and add new variable and name it as PYTHON_NAME and paste the copied path.\n",
    "      Then look for the path variable, select it's value and select edit\n",
    "      Add a semicolon towards the end of the value if it's not present and then type %PYTHON_HOME%\n",
    "        "
   ]
  },
  {
   "cell_type": "code",
   "execution_count": null,
   "id": "d549a3f3-b3ea-48f6-8977-c9da862d420d",
   "metadata": {},
   "outputs": [],
   "source": []
  },
  {
   "cell_type": "code",
   "execution_count": null,
   "id": "90ede7a1-6eac-4d42-846a-a3c09ad23415",
   "metadata": {},
   "outputs": [],
   "source": []
  },
  {
   "cell_type": "code",
   "execution_count": null,
   "id": "c5a7c775-fe68-4d7d-a22b-9bf00d59638d",
   "metadata": {},
   "outputs": [],
   "source": []
  }
 ],
 "metadata": {
  "kernelspec": {
   "display_name": "Python 3 (ipykernel)",
   "language": "python",
   "name": "python3"
  },
  "language_info": {
   "codemirror_mode": {
    "name": "ipython",
    "version": 3
   },
   "file_extension": ".py",
   "mimetype": "text/x-python",
   "name": "python",
   "nbconvert_exporter": "python",
   "pygments_lexer": "ipython3",
   "version": "3.10.8"
  }
 },
 "nbformat": 4,
 "nbformat_minor": 5
}
